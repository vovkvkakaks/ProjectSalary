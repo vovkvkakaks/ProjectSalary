{
 "cells": [
  {
   "cell_type": "markdown",
   "metadata": {},
   "source": [
    "## Project Description\n",
    "This Python project provides a simple command-line tool for tracking working hours and calculating monthly salary. The program utilizes pandas for data manipulation and Excel files for storing data persistently. Users can input working hours for specific days, view monthly information including salary, and exit the program when finished."
   ]
  }
 ],
 "metadata": {
  "language_info": {
   "name": "python"
  }
 },
 "nbformat": 4,
 "nbformat_minor": 2
}
